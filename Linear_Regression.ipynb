{
 "metadata": {
  "language": "Julia",
  "name": "",
  "signature": "sha256:4e54e3e2bab1b11fd40ad14c122078a5d78fab0994d9eb98915a360fded6ddd6"
 },
 "nbformat": 3,
 "nbformat_minor": 0,
 "worksheets": [
  {
   "cells": [
    {
     "cell_type": "code",
     "collapsed": true,
     "input": [
      "Pkg.update()\n",
      "Pkg.add(\"StatsBase\")\n",
      "using StatsBase: sample"
     ],
     "language": "python",
     "metadata": {},
     "outputs": [
      {
       "output_type": "stream",
       "stream": "stderr",
       "text": [
        "INFO: Updating METADATA...\n"
       ]
      },
      {
       "output_type": "stream",
       "stream": "stderr",
       "text": [
        "fatal: Unable to look up github.com (port 9418) (nodename nor servname provided, or not known)\n"
       ]
      },
      {
       "ename": "LoadError",
       "evalue": "failed process: Process(`git pull -q`, ProcessExited(1)) [1]\nwhile loading In[45], in expression starting on line 1",
       "output_type": "pyerr",
       "traceback": [
        "failed process: Process(`git pull -q`, ProcessExited(1)) [1]\nwhile loading In[45], in expression starting on line 1",
        "",
        " in pipeline_error at process.jl:502",
        " in run at pkg/git.jl:22",
        " in anonymous at pkg/entry.jl:248",
        " in with_env at env.jl:177",
        " in anonymous at pkg/entry.jl:247",
        " in cd at /Applications/Julia-0.3.5.app/Contents/Resources/julia/lib/julia/sys.dylib",
        " in update at /Applications/Julia-0.3.5.app/Contents/Resources/julia/lib/julia/sys.dylib",
        " in anonymous at pkg/dir.jl:28",
        " in cd at /Applications/Julia-0.3.5.app/Contents/Resources/julia/lib/julia/sys.dylib",
        " in __cd#227__ at /Applications/Julia-0.3.5.app/Contents/Resources/julia/lib/julia/sys.dylib",
        " in update at /Applications/Julia-0.3.5.app/Contents/Resources/julia/lib/julia/sys.dylib"
       ]
      }
     ],
     "prompt_number": 45
    },
    {
     "cell_type": "code",
     "collapsed": false,
     "input": [
      "data = readdlm(\"./stanford_dl_ex/ex1/housing.data\")"
     ],
     "language": "python",
     "metadata": {},
     "outputs": [
      {
       "metadata": {},
       "output_type": "pyout",
       "prompt_number": 56,
       "text": [
        "506x14 Array{Float64,2}:\n",
        " 0.00632  18.0   2.31  0.0  0.538  6.575  \u2026  296.0  15.3  396.9    4.98  24.0\n",
        " 0.02731   0.0   7.07  0.0  0.469  6.421     242.0  17.8  396.9    9.14  21.6\n",
        " 0.02729   0.0   7.07  0.0  0.469  7.185     242.0  17.8  392.83   4.03  34.7\n",
        " 0.03237   0.0   2.18  0.0  0.458  6.998     222.0  18.7  394.63   2.94  33.4\n",
        " 0.06905   0.0   2.18  0.0  0.458  7.147     222.0  18.7  396.9    5.33  36.2\n",
        " 0.02985   0.0   2.18  0.0  0.458  6.43   \u2026  222.0  18.7  394.12   5.21  28.7\n",
        " 0.08829  12.5   7.87  0.0  0.524  6.012     311.0  15.2  395.6   12.43  22.9\n",
        " 0.14455  12.5   7.87  0.0  0.524  6.172     311.0  15.2  396.9   19.15  27.1\n",
        " 0.21124  12.5   7.87  0.0  0.524  5.631     311.0  15.2  386.63  29.93  16.5\n",
        " 0.17004  12.5   7.87  0.0  0.524  6.004     311.0  15.2  386.71  17.1   18.9\n",
        " 0.22489  12.5   7.87  0.0  0.524  6.377  \u2026  311.0  15.2  392.52  20.45  15.0\n",
        " 0.11747  12.5   7.87  0.0  0.524  6.009     311.0  15.2  396.9   13.27  18.9\n",
        " 0.09378  12.5   7.87  0.0  0.524  5.889     311.0  15.2  390.5   15.71  21.7\n",
        " \u22ee                                 \u22ee      \u22f1          \u22ee                       \n",
        " 0.27957   0.0   9.69  0.0  0.585  5.926     391.0  19.2  396.9   13.59  24.5\n",
        " 0.17899   0.0   9.69  0.0  0.585  5.67   \u2026  391.0  19.2  393.29  17.6   23.1\n",
        " 0.2896    0.0   9.69  0.0  0.585  5.39      391.0  19.2  396.9   21.14  19.7\n",
        " 0.26838   0.0   9.69  0.0  0.585  5.794     391.0  19.2  396.9   14.1   18.3\n",
        " 0.23912   0.0   9.69  0.0  0.585  6.019     391.0  19.2  396.9   12.92  21.2\n",
        " 0.17783   0.0   9.69  0.0  0.585  5.569     391.0  19.2  395.77  15.1   17.5\n",
        " 0.22438   0.0   9.69  0.0  0.585  6.027  \u2026  391.0  19.2  396.9   14.33  16.8\n",
        " 0.06263   0.0  11.93  0.0  0.573  6.593     273.0  21.0  391.99   9.67  22.4\n",
        " 0.04527   0.0  11.93  0.0  0.573  6.12      273.0  21.0  396.9    9.08  20.6\n",
        " 0.06076   0.0  11.93  0.0  0.573  6.976     273.0  21.0  396.9    5.64  23.9\n",
        " 0.10959   0.0  11.93  0.0  0.573  6.794     273.0  21.0  393.45   6.48  22.0\n",
        " 0.04741   0.0  11.93  0.0  0.573  6.03   \u2026  273.0  21.0  396.9    7.88  11.9"
       ]
      }
     ],
     "prompt_number": 56
    },
    {
     "cell_type": "code",
     "collapsed": false,
     "input": [
      "data_with_ones = hcat(ones(eltype(data), 506, 1), data)"
     ],
     "language": "python",
     "metadata": {},
     "outputs": [
      {
       "metadata": {},
       "output_type": "pyout",
       "prompt_number": 57,
       "text": [
        "506x15 Array{Float64,2}:\n",
        " 1.0  0.00632  18.0   2.31  0.0  0.538  \u2026  296.0  15.3  396.9    4.98  24.0\n",
        " 1.0  0.02731   0.0   7.07  0.0  0.469     242.0  17.8  396.9    9.14  21.6\n",
        " 1.0  0.02729   0.0   7.07  0.0  0.469     242.0  17.8  392.83   4.03  34.7\n",
        " 1.0  0.03237   0.0   2.18  0.0  0.458     222.0  18.7  394.63   2.94  33.4\n",
        " 1.0  0.06905   0.0   2.18  0.0  0.458     222.0  18.7  396.9    5.33  36.2\n",
        " 1.0  0.02985   0.0   2.18  0.0  0.458  \u2026  222.0  18.7  394.12   5.21  28.7\n",
        " 1.0  0.08829  12.5   7.87  0.0  0.524     311.0  15.2  395.6   12.43  22.9\n",
        " 1.0  0.14455  12.5   7.87  0.0  0.524     311.0  15.2  396.9   19.15  27.1\n",
        " 1.0  0.21124  12.5   7.87  0.0  0.524     311.0  15.2  386.63  29.93  16.5\n",
        " 1.0  0.17004  12.5   7.87  0.0  0.524     311.0  15.2  386.71  17.1   18.9\n",
        " 1.0  0.22489  12.5   7.87  0.0  0.524  \u2026  311.0  15.2  392.52  20.45  15.0\n",
        " 1.0  0.11747  12.5   7.87  0.0  0.524     311.0  15.2  396.9   13.27  18.9\n",
        " 1.0  0.09378  12.5   7.87  0.0  0.524     311.0  15.2  390.5   15.71  21.7\n",
        " \u22ee                               \u22ee      \u22f1    \u22ee                             \n",
        " 1.0  0.27957   0.0   9.69  0.0  0.585     391.0  19.2  396.9   13.59  24.5\n",
        " 1.0  0.17899   0.0   9.69  0.0  0.585  \u2026  391.0  19.2  393.29  17.6   23.1\n",
        " 1.0  0.2896    0.0   9.69  0.0  0.585     391.0  19.2  396.9   21.14  19.7\n",
        " 1.0  0.26838   0.0   9.69  0.0  0.585     391.0  19.2  396.9   14.1   18.3\n",
        " 1.0  0.23912   0.0   9.69  0.0  0.585     391.0  19.2  396.9   12.92  21.2\n",
        " 1.0  0.17783   0.0   9.69  0.0  0.585     391.0  19.2  395.77  15.1   17.5\n",
        " 1.0  0.22438   0.0   9.69  0.0  0.585  \u2026  391.0  19.2  396.9   14.33  16.8\n",
        " 1.0  0.06263   0.0  11.93  0.0  0.573     273.0  21.0  391.99   9.67  22.4\n",
        " 1.0  0.04527   0.0  11.93  0.0  0.573     273.0  21.0  396.9    9.08  20.6\n",
        " 1.0  0.06076   0.0  11.93  0.0  0.573     273.0  21.0  396.9    5.64  23.9\n",
        " 1.0  0.10959   0.0  11.93  0.0  0.573     273.0  21.0  393.45   6.48  22.0\n",
        " 1.0  0.04741   0.0  11.93  0.0  0.573  \u2026  273.0  21.0  396.9    7.88  11.9"
       ]
      }
     ],
     "prompt_number": 57
    },
    {
     "cell_type": "code",
     "collapsed": false,
     "input": [
      "mask = sample(1:506, 506, replace=false) "
     ],
     "language": "python",
     "metadata": {},
     "outputs": [
      {
       "metadata": {},
       "output_type": "pyout",
       "prompt_number": 58,
       "text": [
        "506-element Array{Int64,1}:\n",
        "  83\n",
        " 473\n",
        " 391\n",
        " 434\n",
        "  79\n",
        " 354\n",
        "  69\n",
        "  29\n",
        " 320\n",
        " 218\n",
        "  73\n",
        "  52\n",
        " 128\n",
        "   \u22ee\n",
        " 426\n",
        " 454\n",
        " 132\n",
        " 153\n",
        " 309\n",
        " 483\n",
        " 276\n",
        " 230\n",
        "  37\n",
        " 122\n",
        " 236\n",
        " 142"
       ]
      }
     ],
     "prompt_number": 58
    },
    {
     "cell_type": "code",
     "collapsed": false,
     "input": [
      "# training data\n",
      "train_X = data_with_ones[mask[1:400], 1:end-1]\n",
      "train_y = data_with_ones[mask[1:400], end]\n",
      "\n",
      "# test data\n",
      "test_X = data_with_ones[mask[401:end], 1:end-1]\n",
      "test_y = data_with_ones[mask[401:end], end]"
     ],
     "language": "python",
     "metadata": {},
     "outputs": [
      {
       "metadata": {},
       "output_type": "pyout",
       "prompt_number": 59,
       "text": [
        "106-element Array{Float64,1}:\n",
        " 14.1\n",
        " 48.3\n",
        " 20.0\n",
        " 18.3\n",
        " 22.6\n",
        " 13.4\n",
        " 16.0\n",
        " 10.2\n",
        " 20.1\n",
        " 21.7\n",
        " 18.5\n",
        " 13.9\n",
        " 20.7\n",
        "  \u22ee  \n",
        "  8.3\n",
        " 17.8\n",
        " 19.6\n",
        " 15.3\n",
        " 22.8\n",
        " 25.0\n",
        " 32.0\n",
        " 31.5\n",
        " 20.0\n",
        " 20.3\n",
        " 24.0\n",
        " 14.4"
       ]
      }
     ],
     "prompt_number": 59
    },
    {
     "cell_type": "code",
     "collapsed": true,
     "input": [
      "# number of training instances\n",
      "n = size(train_X, 1)\n",
      "\n",
      "# number of features\n",
      "m = size(train_X, 2)"
     ],
     "language": "python",
     "metadata": {},
     "outputs": [
      {
       "metadata": {},
       "output_type": "pyout",
       "prompt_number": 61,
       "text": [
        "14"
       ]
      }
     ],
     "prompt_number": 61
    },
    {
     "cell_type": "code",
     "collapsed": true,
     "input": [
      "theta = rand(n)"
     ],
     "language": "python",
     "metadata": {},
     "outputs": [
      {
       "metadata": {},
       "output_type": "pyout",
       "prompt_number": 65,
       "text": [
        "400-element Array{Float64,1}:\n",
        " 0.883911 \n",
        " 0.304153 \n",
        " 0.619444 \n",
        " 0.801416 \n",
        " 0.133736 \n",
        " 0.38585  \n",
        " 0.841129 \n",
        " 0.811749 \n",
        " 0.996115 \n",
        " 0.74668  \n",
        " 0.025622 \n",
        " 0.740555 \n",
        " 0.74287  \n",
        " \u22ee        \n",
        " 0.812524 \n",
        " 0.0919404\n",
        " 0.87236  \n",
        " 0.299871 \n",
        " 0.588097 \n",
        " 0.702965 \n",
        " 0.927235 \n",
        " 0.317281 \n",
        " 0.519657 \n",
        " 0.990364 \n",
        " 0.0931446\n",
        " 0.544449 "
       ]
      }
     ],
     "prompt_number": 65
    }
   ],
   "metadata": {}
  }
 ]
}